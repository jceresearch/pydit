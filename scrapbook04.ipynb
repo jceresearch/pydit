{
 "cells": [
  {
   "cell_type": "code",
   "execution_count": 1,
   "metadata": {},
   "outputs": [],
   "source": [
    "import pandas as pd\n",
    "import numpy as np\n",
    "import pydit\n"
   ]
  },
  {
   "cell_type": "code",
   "execution_count": 2,
   "metadata": {},
   "outputs": [],
   "source": [
    "d1 = {\n",
    "        \"mkey\": [1, 2, 3,4],\n",
    "        \"mvalue\": [\"a\",\"b\",\"c\",\"d\"]\n",
    "    }\n",
    "d2 = {\n",
    "        \"tkey\": [100, 101, 102,103,104,105,106],\n",
    "        \"mkey\": [1,1,1,2,3,3,5],\n",
    "        \"tvalue\": [10.12,20.4,33.3,45,59.99,60,-1]\n",
    "    }\n",
    "\n",
    "df1 = pd.DataFrame(data=d1)\n",
    "df2= pd.DataFrame(data=d2)"
   ]
  }
 ],
 "metadata": {
  "kernelspec": {
   "display_name": "Python 3",
   "language": "python",
   "name": "python3"
  },
  "language_info": {
   "codemirror_mode": {
    "name": "ipython",
    "version": 3
   },
   "file_extension": ".py",
   "mimetype": "text/x-python",
   "name": "python",
   "nbconvert_exporter": "python",
   "pygments_lexer": "ipython3",
   "version": "3.9.7"
  }
 },
 "nbformat": 4,
 "nbformat_minor": 2
}
