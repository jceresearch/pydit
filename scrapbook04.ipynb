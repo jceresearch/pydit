{
 "cells": [
  {
   "cell_type": "code",
   "execution_count": 1,
   "metadata": {},
   "outputs": [],
   "source": [
    "import pandas as pd\n",
    "import numpy as np\n",
    "import re\n",
    "import pydit\n",
    "logger=pydit.setup_logging()\n"
   ]
  },
  {
   "cell_type": "code",
   "execution_count": 2,
   "metadata": {},
   "outputs": [
    {
     "data": {
      "text/plain": [
       "['mkey', 'column_2', '1', '1_2', 'mkey_2']"
      ]
     },
     "execution_count": 2,
     "metadata": {},
     "output_type": "execute_result"
    }
   ],
   "source": [
    "test_list=[\"Mkey\",\"\",1,1,\"mkey\"]\n",
    "pydit.deduplicate_list(test_list)"
   ]
  },
  {
   "cell_type": "code",
   "execution_count": 3,
   "metadata": {},
   "outputs": [
    {
     "data": {
      "text/html": [
       "<div>\n",
       "<style scoped>\n",
       "    .dataframe tbody tr th:only-of-type {\n",
       "        vertical-align: middle;\n",
       "    }\n",
       "\n",
       "    .dataframe tbody tr th {\n",
       "        vertical-align: top;\n",
       "    }\n",
       "\n",
       "    .dataframe thead th {\n",
       "        text-align: right;\n",
       "    }\n",
       "</style>\n",
       "<table border=\"1\" class=\"dataframe\">\n",
       "  <thead>\n",
       "    <tr style=\"text-align: right;\">\n",
       "      <th></th>\n",
       "      <th>1</th>\n",
       "      <th></th>\n",
       "      <th>Mkey</th>\n",
       "      <th>Mvalue</th>\n",
       "      <th>Mvalue</th>\n",
       "      <th>M value!\\nNewLine</th>\n",
       "      <th>Mvalue£</th>\n",
       "      <th>Mvalue%</th>\n",
       "    </tr>\n",
       "  </thead>\n",
       "  <tbody>\n",
       "    <tr>\n",
       "      <th>0</th>\n",
       "      <td>a</td>\n",
       "      <td>a</td>\n",
       "      <td>1</td>\n",
       "      <td>a</td>\n",
       "      <td>a</td>\n",
       "      <td>a</td>\n",
       "      <td>a</td>\n",
       "      <td>a</td>\n",
       "    </tr>\n",
       "    <tr>\n",
       "      <th>1</th>\n",
       "      <td>b</td>\n",
       "      <td>b</td>\n",
       "      <td>2</td>\n",
       "      <td>b</td>\n",
       "      <td>b</td>\n",
       "      <td>b</td>\n",
       "      <td>b</td>\n",
       "      <td>b</td>\n",
       "    </tr>\n",
       "    <tr>\n",
       "      <th>2</th>\n",
       "      <td>c</td>\n",
       "      <td>c</td>\n",
       "      <td>3</td>\n",
       "      <td>c</td>\n",
       "      <td>c</td>\n",
       "      <td>c</td>\n",
       "      <td>c</td>\n",
       "      <td>c</td>\n",
       "    </tr>\n",
       "    <tr>\n",
       "      <th>3</th>\n",
       "      <td>f</td>\n",
       "      <td>g</td>\n",
       "      <td>4</td>\n",
       "      <td>d</td>\n",
       "      <td>e</td>\n",
       "      <td>e</td>\n",
       "      <td>e</td>\n",
       "      <td>e</td>\n",
       "    </tr>\n",
       "  </tbody>\n",
       "</table>\n",
       "</div>"
      ],
      "text/plain": [
       "   1     Mkey Mvalue  Mvalue M value!\\nNewLine Mvalue£ Mvalue%\n",
       "0  a  a     1       a      a                 a       a       a\n",
       "1  b  b     2       b      b                 b       b       b\n",
       "2  c  c     3       c      c                 c       c       c\n",
       "3  f  g     4       d      e                 e       e       e"
      ]
     },
     "execution_count": 3,
     "metadata": {},
     "output_type": "execute_result"
    }
   ],
   "source": [
    "d1 = {\n",
    "        1: [\"a\",\"b\",\"c\",\"f\"],\n",
    "        \"\": [\"a\",\"b\",\"c\",\"g\"],\n",
    "        \"Mkey\": [1, 2, 3,4],\n",
    "        \"Mkey\": [1, 2, 3,4],\n",
    "        \"Mvalue \": [\"a\",\"b\",\"c\",\"d\"],\n",
    "        \"Mvalue\": [\"a\",\"b\",\"c\",\"e\"],\n",
    "        \"M value!\\nNewLine\": [\"a\",\"b\",\"c\",\"e\"],\n",
    "        \"Mvalue£\": [\"a\",\"b\",\"c\",\"e\"],\n",
    "        \"Mvalue%\": [\"a\",\"b\",\"c\",\"e\"]\n",
    "        \n",
    "    }\n",
    "d2 = {\n",
    "        \"Tkey\": [100, 101, 102,103,104,105,106],\n",
    "        \"Mkey\": [1,1,1,2,3,3,5],\n",
    "        \"Tvalue\": [10.12,20.4,33.3,45,59.99,60,-1]\n",
    "\n",
    "    }\n",
    "\n",
    "df1 = pd.DataFrame(data=d1)\n",
    "df2= pd.DataFrame(data=d2)\n",
    "df1"
   ]
  },
  {
   "cell_type": "code",
   "execution_count": null,
   "metadata": {},
   "outputs": [],
   "source": []
  },
  {
   "cell_type": "code",
   "execution_count": 4,
   "metadata": {},
   "outputs": [
    {
     "name": "stderr",
     "output_type": "stream",
     "text": [
      "2022-02-28 20:22 INFO - New columns names:['1', 'column_2', 'mkey', 'mvalue', 'mvalue_2', 'm_value_newline', 'mvalue£', 'mvaluepc']\n"
     ]
    },
    {
     "name": "stdout",
     "output_type": "stream",
     "text": [
      "['1', '', 'mkey', 'mvalue', 'mvalue', 'm_value_newline', 'mvalue£', 'mvaluepc']\n"
     ]
    },
    {
     "data": {
      "text/html": [
       "<div>\n",
       "<style scoped>\n",
       "    .dataframe tbody tr th:only-of-type {\n",
       "        vertical-align: middle;\n",
       "    }\n",
       "\n",
       "    .dataframe tbody tr th {\n",
       "        vertical-align: top;\n",
       "    }\n",
       "\n",
       "    .dataframe thead th {\n",
       "        text-align: right;\n",
       "    }\n",
       "</style>\n",
       "<table border=\"1\" class=\"dataframe\">\n",
       "  <thead>\n",
       "    <tr style=\"text-align: right;\">\n",
       "      <th></th>\n",
       "      <th>1</th>\n",
       "      <th>column_2</th>\n",
       "      <th>mkey</th>\n",
       "      <th>mvalue</th>\n",
       "      <th>mvalue_2</th>\n",
       "      <th>m_value_newline</th>\n",
       "      <th>mvalue£</th>\n",
       "      <th>mvaluepc</th>\n",
       "    </tr>\n",
       "  </thead>\n",
       "  <tbody>\n",
       "    <tr>\n",
       "      <th>0</th>\n",
       "      <td>a</td>\n",
       "      <td>a</td>\n",
       "      <td>1</td>\n",
       "      <td>a</td>\n",
       "      <td>a</td>\n",
       "      <td>a</td>\n",
       "      <td>a</td>\n",
       "      <td>a</td>\n",
       "    </tr>\n",
       "    <tr>\n",
       "      <th>1</th>\n",
       "      <td>b</td>\n",
       "      <td>b</td>\n",
       "      <td>2</td>\n",
       "      <td>b</td>\n",
       "      <td>b</td>\n",
       "      <td>b</td>\n",
       "      <td>b</td>\n",
       "      <td>b</td>\n",
       "    </tr>\n",
       "    <tr>\n",
       "      <th>2</th>\n",
       "      <td>c</td>\n",
       "      <td>c</td>\n",
       "      <td>3</td>\n",
       "      <td>c</td>\n",
       "      <td>c</td>\n",
       "      <td>c</td>\n",
       "      <td>c</td>\n",
       "      <td>c</td>\n",
       "    </tr>\n",
       "    <tr>\n",
       "      <th>3</th>\n",
       "      <td>f</td>\n",
       "      <td>g</td>\n",
       "      <td>4</td>\n",
       "      <td>d</td>\n",
       "      <td>e</td>\n",
       "      <td>e</td>\n",
       "      <td>e</td>\n",
       "      <td>e</td>\n",
       "    </tr>\n",
       "  </tbody>\n",
       "</table>\n",
       "</div>"
      ],
      "text/plain": [
       "   1 column_2  mkey mvalue mvalue_2 m_value_newline mvalue£ mvaluepc\n",
       "0  a        a     1      a        a               a       a        a\n",
       "1  b        b     2      b        b               b       b        b\n",
       "2  c        c     3      c        c               c       c        c\n",
       "3  f        g     4      d        e               e       e        e"
      ]
     },
     "execution_count": 4,
     "metadata": {},
     "output_type": "execute_result"
    }
   ],
   "source": [
    "pydit.cleanup_column_names(df1)\n",
    "df1"
   ]
  },
  {
   "cell_type": "code",
   "execution_count": null,
   "metadata": {},
   "outputs": [],
   "source": []
  },
  {
   "cell_type": "code",
   "execution_count": null,
   "metadata": {},
   "outputs": [],
   "source": []
  }
 ],
 "metadata": {
  "kernelspec": {
   "display_name": "Python 3",
   "language": "python",
   "name": "python3"
  },
  "language_info": {
   "codemirror_mode": {
    "name": "ipython",
    "version": 3
   },
   "file_extension": ".py",
   "mimetype": "text/x-python",
   "name": "python",
   "nbconvert_exporter": "python",
   "pygments_lexer": "ipython3",
   "version": "3.9.7"
  }
 },
 "nbformat": 4,
 "nbformat_minor": 2
}
