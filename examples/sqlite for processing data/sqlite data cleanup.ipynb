{
 "cells": [
  {
   "metadata": {
    "trusted": true
   },
   "cell_type": "code",
   "source": "import sqlite3\nfrom sqlite3 import Error\nimport pandas as pd\nimport json",
   "execution_count": 1,
   "outputs": []
  },
  {
   "metadata": {
    "trusted": true
   },
   "cell_type": "code",
   "source": "def get_tables(path=None,con=None):\n    if path:\n        con=sqlite3.connect(path)\n    cur=con.cursor()\n    cur.execute(\"SELECT name FROM sqlite_master WHERE type='table';\")\n    res= cur.fetchall()\n    con.close\n    res_data=[r[0] for r in res]\n    return res_data\nget_tables(\"pack01\")",
   "execution_count": 2,
   "outputs": [
    {
     "output_type": "execute_result",
     "execution_count": 2,
     "data": {
      "text/plain": "['test_category', 'test', 'test_question', 'question', 'answer']"
     },
     "metadata": {}
    }
   ]
  },
  {
   "metadata": {
    "trusted": true
   },
   "cell_type": "code",
   "source": "def get_metadata(path=None,con=None):\n    if path:\n        con=sqlite3.connect(path)\n    cur=con.cursor()\n    sql=\"\"\"\n        SELECT\n      m.name AS table_name, \n      p.cid AS col_id,\n      p.name AS col_name,\n      p.type AS col_type,\n      p.pk AS col_is_pk,\n      p.dflt_value AS col_default_val,\n      p.[notnull] AS col_is_not_null\n    FROM sqlite_master m\n    LEFT OUTER JOIN pragma_table_info((m.name)) p\n      ON m.name <> p.name\n    WHERE m.type = 'table'\n    ORDER BY table_name, col_id\n\n\n    \"\"\"\n    cur.execute(sql)\n    res= cur.fetchall()\n    con.close()\n    df=pd.DataFrame(res,columns=[\"table\",\"col_id\",\"col_name\",\"col_type\",\"col_pk\",\"col_def\",\"col_notnull\"])\n    return df\n\n\ndf=get_metadata(\"pack01\")\ndf.head()",
   "execution_count": 3,
   "outputs": [
    {
     "output_type": "execute_result",
     "execution_count": 3,
     "data": {
      "text/plain": "      table  col_id       col_name  col_type  col_pk col_def  col_notnull\n0    answer       0      answer_id   INTEGER       1    None            1\n1    answer       1   answer_index  SMALLINT       0    None            1\n2    answer       2   flag_correct   BOOLEAN       0    None            0\n3  question       0    question_id      TEXT       1    None            1\n4  question       1  question_text      TEXT       0    None            0",
      "text/html": "<div>\n<style scoped>\n    .dataframe tbody tr th:only-of-type {\n        vertical-align: middle;\n    }\n\n    .dataframe tbody tr th {\n        vertical-align: top;\n    }\n\n    .dataframe thead th {\n        text-align: right;\n    }\n</style>\n<table border=\"1\" class=\"dataframe\">\n  <thead>\n    <tr style=\"text-align: right;\">\n      <th></th>\n      <th>table</th>\n      <th>col_id</th>\n      <th>col_name</th>\n      <th>col_type</th>\n      <th>col_pk</th>\n      <th>col_def</th>\n      <th>col_notnull</th>\n    </tr>\n  </thead>\n  <tbody>\n    <tr>\n      <th>0</th>\n      <td>answer</td>\n      <td>0</td>\n      <td>answer_id</td>\n      <td>INTEGER</td>\n      <td>1</td>\n      <td>None</td>\n      <td>1</td>\n    </tr>\n    <tr>\n      <th>1</th>\n      <td>answer</td>\n      <td>1</td>\n      <td>answer_index</td>\n      <td>SMALLINT</td>\n      <td>0</td>\n      <td>None</td>\n      <td>1</td>\n    </tr>\n    <tr>\n      <th>2</th>\n      <td>answer</td>\n      <td>2</td>\n      <td>flag_correct</td>\n      <td>BOOLEAN</td>\n      <td>0</td>\n      <td>None</td>\n      <td>0</td>\n    </tr>\n    <tr>\n      <th>3</th>\n      <td>question</td>\n      <td>0</td>\n      <td>question_id</td>\n      <td>TEXT</td>\n      <td>1</td>\n      <td>None</td>\n      <td>1</td>\n    </tr>\n    <tr>\n      <th>4</th>\n      <td>question</td>\n      <td>1</td>\n      <td>question_text</td>\n      <td>TEXT</td>\n      <td>0</td>\n      <td>None</td>\n      <td>0</td>\n    </tr>\n  </tbody>\n</table>\n</div>"
     },
     "metadata": {}
    }
   ]
  },
  {
   "metadata": {
    "trusted": true
   },
   "cell_type": "code",
   "source": "#dump all values from the database\ndef get_values(path=None,con=None):\n    if path:\n        print(\"opening database\")\n        con=sqlite3.connect(path)\n    cur=con.cursor()\n    dfdict={}\n    df=get_metadata(path)\n    for table in df[\"table\"].unique():\n        sql=f\"\"\"select * from {table}\"\"\"\n        cur.execute(sql)\n        res=cur.fetchall()\n        col_list= df[df[\"table\"]==table][\"col_name\"].to_list()\n        dftemp=pd.DataFrame(res,columns=col_list)\n        dfdict[table]=dftemp\n    con.close()\n    return dfdict\ndfdict=get_values(\"pack01\")\nprint(dfdict.keys())\ndfdict[\"test\"]",
   "execution_count": 4,
   "outputs": [
    {
     "output_type": "stream",
     "text": "opening database\ndict_keys(['answer', 'question', 'test', 'test_category', 'test_question'])\n",
     "name": "stdout"
    },
    {
     "output_type": "execute_result",
     "execution_count": 4,
     "data": {
      "text/plain": "Empty DataFrame\nColumns: [test_id, title, category_id]\nIndex: []",
      "text/html": "<div>\n<style scoped>\n    .dataframe tbody tr th:only-of-type {\n        vertical-align: middle;\n    }\n\n    .dataframe tbody tr th {\n        vertical-align: top;\n    }\n\n    .dataframe thead th {\n        text-align: right;\n    }\n</style>\n<table border=\"1\" class=\"dataframe\">\n  <thead>\n    <tr style=\"text-align: right;\">\n      <th></th>\n      <th>test_id</th>\n      <th>title</th>\n      <th>category_id</th>\n    </tr>\n  </thead>\n  <tbody>\n  </tbody>\n</table>\n</div>"
     },
     "metadata": {}
    }
   ]
  },
  {
   "metadata": {
    "trusted": true
   },
   "cell_type": "code",
   "source": "",
   "execution_count": null,
   "outputs": []
  },
  {
   "metadata": {
    "trusted": true
   },
   "cell_type": "code",
   "source": "",
   "execution_count": null,
   "outputs": []
  },
  {
   "metadata": {
    "trusted": true
   },
   "cell_type": "code",
   "source": "def get_schema(path=None,con=None):\n    if path:\n        con=sqlite3.connect(path)\n    cur=con.cursor()\n    cur.execute(\"SELECT type,name,tbl_name,rootpage,sql FROM sqlite_master WHERE type='table';\")\n    res=cur.fetchall()\n    con.close()\n    df=pd.DataFrame(res,columns=[\"type\",\"name\",\"tbl_name\",\"rootpage\",\"sql\"])\n    df[\"sql_original\"]=df[\"sql\"].copy()\n    df[\"sql\"]=df[\"sql\"].replace(\"\\n+\",\" \",regex=True)\n    df[\"sql\"]=df[\"sql\"].replace(\" +\",\" \",regex=True)\n    tables_sql=df[[\"name\",\"sql\"]].to_dict(orient=\"records\")\n    json_string = json.dumps(tables_sql,indent=4)\n    with open(\"dbspecs.json\", \"w\") as outfile:\n        outfile.write(json_string)\n    raw_text=\";\\n\".join([sql for sql in df[\"sql\"] ])\n    print(raw_text)\n    with open(\"dbspecs.sql\", \"w\") as outfile:\n        outfile.write(raw_text)      \n    return raw_text\nget_schema(\"pack01\")",
   "execution_count": 10,
   "outputs": [
    {
     "output_type": "stream",
     "text": "CREATE TABLE \"test_category\" ( \"category_id\" TEXT NOT NULL, PRIMARY KEY (\"category_id\") );\nCREATE TABLE \"test\" ( \"test_id\" INTEGER NOT NULL, \"title\" TEXT NOT NULL, \"category_id\" TEXT REFERENCES test_category (\"category_id\") ON UPDATE CASCADE ON DELETE SET NULL, PRIMARY KEY (\"test_id\") );\nCREATE TABLE \"test_question\" ( \"question_id\" TEXT NOT NULL REFERENCES question (\"question_id\") ON UPDATE CASCADE ON DELETE CASCADE, \"test_id\" INTEGER REFERENCES \"test\" (\"test_id\") ON UPDATE CASCADE ON DELETE CASCADE);\nCREATE TABLE \"question\" ( \"question_id\" TEXT NOT NULL, \"question_text\" TEXT NULL, \"question_notes\" TEXT, PRIMARY KEY (\"question_id\") );\nCREATE TABLE \"answer\" ( \"answer_id\" INTEGER NOT NULL, \"answer_index\" SMALLINT NOT NULL, \"flag_correct\" BOOLEAN NULL, PRIMARY KEY (\"answer_id\") )\n",
     "name": "stdout"
    },
    {
     "output_type": "execute_result",
     "execution_count": 10,
     "data": {
      "text/plain": "'CREATE TABLE \"test_category\" ( \"category_id\" TEXT NOT NULL, PRIMARY KEY (\"category_id\") );\\nCREATE TABLE \"test\" ( \"test_id\" INTEGER NOT NULL, \"title\" TEXT NOT NULL, \"category_id\" TEXT REFERENCES test_category (\"category_id\") ON UPDATE CASCADE ON DELETE SET NULL, PRIMARY KEY (\"test_id\") );\\nCREATE TABLE \"test_question\" ( \"question_id\" TEXT NOT NULL REFERENCES question (\"question_id\") ON UPDATE CASCADE ON DELETE CASCADE, \"test_id\" INTEGER REFERENCES \"test\" (\"test_id\") ON UPDATE CASCADE ON DELETE CASCADE);\\nCREATE TABLE \"question\" ( \"question_id\" TEXT NOT NULL, \"question_text\" TEXT NULL, \"question_notes\" TEXT, PRIMARY KEY (\"question_id\") );\\nCREATE TABLE \"answer\" ( \"answer_id\" INTEGER NOT NULL, \"answer_index\" SMALLINT NOT NULL, \"flag_correct\" BOOLEAN NULL, PRIMARY KEY (\"answer_id\") )'"
     },
     "metadata": {}
    }
   ]
  },
  {
   "metadata": {
    "trusted": true
   },
   "cell_type": "code",
   "source": "def recreate_from_json(json_input_path,sqlite_output_path):\n    with open(json_input_path) as f:\n        json_string_load = json.load(f)    \n    con = sqlite3.connect(\":memory:\")\n    cur= con.cursor()\n    for table in json_string_load:\n        sql=table[\"sql\"]\n        cur.execute(sql)\n        con.commit()\n    return con\ncon=recreate_from_json(\"dbspecs.json\",\":memory:\")\ndf=get_metadata(con=con)\ndf.head()",
   "execution_count": 6,
   "outputs": [
    {
     "output_type": "execute_result",
     "execution_count": 6,
     "data": {
      "text/plain": "      table  col_id       col_name  col_type  col_pk col_def  col_notnull\n0    answer       0      answer_id   INTEGER       1    None            1\n1    answer       1   answer_index  SMALLINT       0    None            1\n2    answer       2   flag_correct   BOOLEAN       0    None            0\n3  question       0    question_id      TEXT       1    None            1\n4  question       1  question_text      TEXT       0    None            0",
      "text/html": "<div>\n<style scoped>\n    .dataframe tbody tr th:only-of-type {\n        vertical-align: middle;\n    }\n\n    .dataframe tbody tr th {\n        vertical-align: top;\n    }\n\n    .dataframe thead th {\n        text-align: right;\n    }\n</style>\n<table border=\"1\" class=\"dataframe\">\n  <thead>\n    <tr style=\"text-align: right;\">\n      <th></th>\n      <th>table</th>\n      <th>col_id</th>\n      <th>col_name</th>\n      <th>col_type</th>\n      <th>col_pk</th>\n      <th>col_def</th>\n      <th>col_notnull</th>\n    </tr>\n  </thead>\n  <tbody>\n    <tr>\n      <th>0</th>\n      <td>answer</td>\n      <td>0</td>\n      <td>answer_id</td>\n      <td>INTEGER</td>\n      <td>1</td>\n      <td>None</td>\n      <td>1</td>\n    </tr>\n    <tr>\n      <th>1</th>\n      <td>answer</td>\n      <td>1</td>\n      <td>answer_index</td>\n      <td>SMALLINT</td>\n      <td>0</td>\n      <td>None</td>\n      <td>1</td>\n    </tr>\n    <tr>\n      <th>2</th>\n      <td>answer</td>\n      <td>2</td>\n      <td>flag_correct</td>\n      <td>BOOLEAN</td>\n      <td>0</td>\n      <td>None</td>\n      <td>0</td>\n    </tr>\n    <tr>\n      <th>3</th>\n      <td>question</td>\n      <td>0</td>\n      <td>question_id</td>\n      <td>TEXT</td>\n      <td>1</td>\n      <td>None</td>\n      <td>1</td>\n    </tr>\n    <tr>\n      <th>4</th>\n      <td>question</td>\n      <td>1</td>\n      <td>question_text</td>\n      <td>TEXT</td>\n      <td>0</td>\n      <td>None</td>\n      <td>0</td>\n    </tr>\n  </tbody>\n</table>\n</div>"
     },
     "metadata": {}
    }
   ]
  },
  {
   "metadata": {
    "trusted": true
   },
   "cell_type": "code",
   "source": "def recreate_from_text(text_input_path,sqlite_output_path):\n    with open(text_input_path) as f:\n        sql_file = f.read()    \n    con = sqlite3.connect(\"test_template.db\")\n    cur= con.cursor()\n    for sql in sql_file.split(\";\"):\n        cur.execute(sql)\n    con.commit()\n    return con\ncon=recreate_from_text(\"dbspecs.sql\",\":memory:\")\ndf=get_metadata(con=con)\ndf.head(20)",
   "execution_count": 20,
   "outputs": [
    {
     "output_type": "execute_result",
     "execution_count": 20,
     "data": {
      "text/plain": "            table  col_id        col_name  col_type  col_pk col_def  \\\n0          answer       0       answer_id   INTEGER       1    None   \n1          answer       1    answer_index  SMALLINT       0    None   \n2          answer       2    flag_correct   BOOLEAN       0    None   \n3        question       0     question_id   INTEGER       1    None   \n4        question       1   question_text      TEXT       0    None   \n5        question       2  question_notes      TEXT       0    None   \n6            test       0         test_id   INTEGER       1    None   \n7            test       1           title      TEXT       0    None   \n8            test       2     category_id      TEXT       0    None   \n9   test_category       0     category_id   INTEGER       1    None   \n10  test_category       1   category_name      TEXT       0    None   \n11  test_question       0     question_id   INTEGER       0    None   \n12  test_question       1         test_id   INTEGER       0    None   \n\n    col_notnull  \n0             1  \n1             1  \n2             0  \n3             1  \n4             0  \n5             0  \n6             1  \n7             1  \n8             0  \n9             1  \n10            1  \n11            1  \n12            0  ",
      "text/html": "<div>\n<style scoped>\n    .dataframe tbody tr th:only-of-type {\n        vertical-align: middle;\n    }\n\n    .dataframe tbody tr th {\n        vertical-align: top;\n    }\n\n    .dataframe thead th {\n        text-align: right;\n    }\n</style>\n<table border=\"1\" class=\"dataframe\">\n  <thead>\n    <tr style=\"text-align: right;\">\n      <th></th>\n      <th>table</th>\n      <th>col_id</th>\n      <th>col_name</th>\n      <th>col_type</th>\n      <th>col_pk</th>\n      <th>col_def</th>\n      <th>col_notnull</th>\n    </tr>\n  </thead>\n  <tbody>\n    <tr>\n      <th>0</th>\n      <td>answer</td>\n      <td>0</td>\n      <td>answer_id</td>\n      <td>INTEGER</td>\n      <td>1</td>\n      <td>None</td>\n      <td>1</td>\n    </tr>\n    <tr>\n      <th>1</th>\n      <td>answer</td>\n      <td>1</td>\n      <td>answer_index</td>\n      <td>SMALLINT</td>\n      <td>0</td>\n      <td>None</td>\n      <td>1</td>\n    </tr>\n    <tr>\n      <th>2</th>\n      <td>answer</td>\n      <td>2</td>\n      <td>flag_correct</td>\n      <td>BOOLEAN</td>\n      <td>0</td>\n      <td>None</td>\n      <td>0</td>\n    </tr>\n    <tr>\n      <th>3</th>\n      <td>question</td>\n      <td>0</td>\n      <td>question_id</td>\n      <td>INTEGER</td>\n      <td>1</td>\n      <td>None</td>\n      <td>1</td>\n    </tr>\n    <tr>\n      <th>4</th>\n      <td>question</td>\n      <td>1</td>\n      <td>question_text</td>\n      <td>TEXT</td>\n      <td>0</td>\n      <td>None</td>\n      <td>0</td>\n    </tr>\n    <tr>\n      <th>5</th>\n      <td>question</td>\n      <td>2</td>\n      <td>question_notes</td>\n      <td>TEXT</td>\n      <td>0</td>\n      <td>None</td>\n      <td>0</td>\n    </tr>\n    <tr>\n      <th>6</th>\n      <td>test</td>\n      <td>0</td>\n      <td>test_id</td>\n      <td>INTEGER</td>\n      <td>1</td>\n      <td>None</td>\n      <td>1</td>\n    </tr>\n    <tr>\n      <th>7</th>\n      <td>test</td>\n      <td>1</td>\n      <td>title</td>\n      <td>TEXT</td>\n      <td>0</td>\n      <td>None</td>\n      <td>1</td>\n    </tr>\n    <tr>\n      <th>8</th>\n      <td>test</td>\n      <td>2</td>\n      <td>category_id</td>\n      <td>TEXT</td>\n      <td>0</td>\n      <td>None</td>\n      <td>0</td>\n    </tr>\n    <tr>\n      <th>9</th>\n      <td>test_category</td>\n      <td>0</td>\n      <td>category_id</td>\n      <td>INTEGER</td>\n      <td>1</td>\n      <td>None</td>\n      <td>1</td>\n    </tr>\n    <tr>\n      <th>10</th>\n      <td>test_category</td>\n      <td>1</td>\n      <td>category_name</td>\n      <td>TEXT</td>\n      <td>0</td>\n      <td>None</td>\n      <td>1</td>\n    </tr>\n    <tr>\n      <th>11</th>\n      <td>test_question</td>\n      <td>0</td>\n      <td>question_id</td>\n      <td>INTEGER</td>\n      <td>0</td>\n      <td>None</td>\n      <td>1</td>\n    </tr>\n    <tr>\n      <th>12</th>\n      <td>test_question</td>\n      <td>1</td>\n      <td>test_id</td>\n      <td>INTEGER</td>\n      <td>0</td>\n      <td>None</td>\n      <td>0</td>\n    </tr>\n  </tbody>\n</table>\n</div>"
     },
     "metadata": {}
    }
   ]
  },
  {
   "metadata": {
    "trusted": true
   },
   "cell_type": "code",
   "source": "",
   "execution_count": null,
   "outputs": []
  },
  {
   "metadata": {
    "trusted": true
   },
   "cell_type": "code",
   "source": "",
   "execution_count": null,
   "outputs": []
  }
 ],
 "metadata": {
  "kernelspec": {
   "name": "python3",
   "display_name": "Python 3",
   "language": "python"
  },
  "language_info": {
   "name": "python",
   "version": "3.10.4",
   "mimetype": "text/x-python",
   "codemirror_mode": {
    "name": "ipython",
    "version": 3
   },
   "pygments_lexer": "ipython3",
   "nbconvert_exporter": "python",
   "file_extension": ".py"
  }
 },
 "nbformat": 4,
 "nbformat_minor": 2
}