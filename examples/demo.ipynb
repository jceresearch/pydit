{
 "cells": [
  {
   "cell_type": "code",
   "execution_count": 1,
   "metadata": {},
   "outputs": [
    {
     "name": "stdout",
     "output_type": "stream",
     "text": [
      "/workspaces/pydit/examples\n",
      "2023-08-28 14:57:41 - \u001b[32m INFO     \u001b[0m - Logging started at INFO level\n",
      "2023-08-28 14:57:41 - \u001b[32m INFO     \u001b[0m - Started\n",
      "2023-08-28 14:57:41 - \u001b[31m\u001b[40m ERROR    \u001b[0m - Some error\n",
      "2023-08-28 14:57:41 - \u001b[33m\u001b[40m WARNING  \u001b[0m - you be warned\n"
     ]
    }
   ],
   "source": [
    "import logging\n",
    "import sys\n",
    "import os\n",
    "import pandas as pd\n",
    "from pandas import Timestamp\n",
    "\n",
    "# pylint: disable=import-error disable=wrong-import-position\n",
    "sys.path.append(os.path.dirname(os.path.dirname(os.path.abspath(\"__file__\"))))\n",
    "\n",
    "print(os.path.dirname(os.path.abspath(\"__file__\")))\n",
    "import pydit\n",
    "\n",
    "logger = pydit.start_logging_info()\n",
    "logger.info(\"Started\")\n",
    "logger.error(\"Some error\")\n",
    "logger.debug(\"Some debug\")\n",
    "logger.warning(\"you be warned\")\n",
    "\n"
   ]
  },
  {
   "cell_type": "code",
   "execution_count": null,
   "metadata": {},
   "outputs": [],
   "source": []
  }
 ],
 "metadata": {
  "kernelspec": {
   "display_name": "Python 3.10.4 64-bit",
   "language": "python",
   "name": "python3"
  },
  "language_info": {
   "codemirror_mode": {
    "name": "ipython",
    "version": 3
   },
   "file_extension": ".py",
   "mimetype": "text/x-python",
   "name": "python",
   "nbconvert_exporter": "python",
   "pygments_lexer": "ipython3",
   "version": "3.11.4"
  },
  "vscode": {
   "interpreter": {
    "hash": "4f946df053fbf2b937619d3c5458e7af74262f9a954d8797ba0b27400bcafe06"
   }
  }
 },
 "nbformat": 4,
 "nbformat_minor": 2
}
