{
 "cells": [
  {
   "metadata": {
    "trusted": true
   },
   "cell_type": "code",
   "source": "from sqlalchemy import func\nfrom sqlalchemy.orm import sessionmaker\nfrom sqlalchemy import create_engine\nfrom sqlalchemy.ext.automap import automap_base\nfrom sqlalchemy.orm import Session\nimport logging\nlogging.getLogger(\"sqlalchemy\").setLevel(logging.WARNING)\nDATABASE_URL = \"sqlite:///test_template.db\"\nengine = create_engine(DATABASE_URL, echo=False)\nSession = sessionmaker(bind=engine)\nsession=Session()\nBase = automap_base()\nBase.prepare(engine)\nQuestion=Base.classes.question\nlatest_question_id=session.query(func.max(Question.question_id)).scalar()\nfor row in session.query(Question):\n    for column in Question.__table__.columns:\n        value = getattr(row, column.name)\n        print(f\"{column.name}: {value}\")",
   "execution_count": 1,
   "outputs": [
    {
     "output_type": "stream",
     "text": "question_id: 1\nquestion_text: how are you today?\nquestion_notes: \nquestion_id: 2\nquestion_text: What day is today?\nquestion_notes: \n",
     "name": "stdout"
    }
   ]
  },
  {
   "metadata": {
    "trusted": false
   },
   "cell_type": "code",
   "source": "",
   "execution_count": 6,
   "outputs": []
  },
  {
   "metadata": {
    "trusted": true
   },
   "cell_type": "code",
   "source": "# Insert a new record\n\nlatest_question_id=session.query(func.max(Question.question_id)).scalar()\n\nnew_question = Question(\n    question_id=(latest_question_id + 1) if latest_question_id else 1,  \n    \n    question_text=\"What is the capital of France?\",\n)\n\n# Add and commit the new record\nsession.add(new_question)\ntry:\n    session.commit()\n    print(f\"New question added with ID: {new_question.question_id}\")\nexcept:\n    print(\"Error adding record, rolling back\")\n    session.rollback()\n\n\n# Display all rows in the table\nfor row in session.query(Question):\n    for column in Question.__table__.columns:\n        value = getattr(row, column.name)\n        print(f\"{column.name}: {value}\")\n",
   "execution_count": 3,
   "outputs": [
    {
     "output_type": "stream",
     "text": "New question added with ID: 4\nquestion_id: 1\nquestion_text: how are you today?\nquestion_notes: \nquestion_id: 2\nquestion_text: What day is today?\nquestion_notes: \nquestion_id: 3\nquestion_text: What is the capital of France?\nquestion_notes: None\nquestion_id: 4\nquestion_text: What is the capital of France?\nquestion_notes: None\n",
     "name": "stdout"
    }
   ]
  },
  {
   "metadata": {
    "trusted": true
   },
   "cell_type": "code",
   "source": "",
   "execution_count": null,
   "outputs": []
  }
 ],
 "metadata": {
  "kernelspec": {
   "name": "python3",
   "display_name": "Python 3",
   "language": "python"
  },
  "language_info": {
   "name": "python",
   "version": "3.10.4",
   "mimetype": "text/x-python",
   "codemirror_mode": {
    "name": "ipython",
    "version": 3
   },
   "pygments_lexer": "ipython3",
   "nbconvert_exporter": "python",
   "file_extension": ".py"
  }
 },
 "nbformat": 4,
 "nbformat_minor": 2
}