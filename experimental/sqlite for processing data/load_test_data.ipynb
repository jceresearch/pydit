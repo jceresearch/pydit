{
 "cells": [
  {
   "metadata": {
    "trusted": false
   },
   "cell_type": "code",
   "source": "",
   "execution_count": null,
   "outputs": []
  },
  {
   "metadata": {
    "trusted": false
   },
   "cell_type": "code",
   "source": "",
   "execution_count": null,
   "outputs": []
  },
  {
   "metadata": {
    "trusted": false
   },
   "cell_type": "code",
   "source": "\nimport sqlite3\nfrom sqlite3 import Error\nimport pandas as pd\nimport json\nDATABASE_NAME=\"test_template.db\"\ndef get_metadata(path=None,con=None):\n    if path:\n        con=sqlite3.connect(path)\n    cur=con.cursor()\n    sql=\"\"\"\n        SELECT\n      m.name AS table_name, \n      p.cid AS col_id,\n      p.name AS col_name,\n      p.type AS col_type,\n      p.pk AS col_is_pk,\n      p.dflt_value AS col_default_val,\n      p.[notnull] AS col_is_not_null\n    FROM sqlite_master m\n    LEFT OUTER JOIN pragma_table_info((m.name)) p\n      ON m.name <> p.name\n    WHERE m.type = 'table'\n    ORDER BY table_name, col_id\n\n\n    \"\"\"\n    cur.execute(sql)\n    res= cur.fetchall()\n    df=pd.DataFrame(res,columns=[\"table\",\"col_id\",\"col_name\",\"col_type\",\"col_pk\",\"col_def\",\"col_notnull\"])\n    def get_fkl(table):\n        sql=f\"PRAGMA foreign_key_list({table});\"\n        cur.execute(sql)\n        res=cur.fetchall()\n        return res\n    tables=df[\"table\"].unique()\n    fk_dict_list=[]\n    for table in tables:    \n        res=get_fkl(table)\n        for element in res:\n            fk_dict={}\n            fk_dict[\"table\"]=table\n            fk_dict[\"col_name\"]=element[3]\n            fk_dict[\"table_name_to\"]=element[2]\n            fk_dict[\"col_name_to\"]=element[4]\n            fk_dict[\"on_update\"]=element[5]\n            fk_dict[\"on_delete\"]=element[6]\n            fk_dict_list.append(fk_dict)\n    dffk=pd.DataFrame(fk_dict_list)\n    df=pd.merge(df,dffk,how='left',on=[\"table\",\"col_name\"])\n    return df\n\ndef recreate_from_text(text_input_path,sqlite_output_path):\n    with open(text_input_path) as f:\n        sql_file = f.read()    \n    con = sqlite3.connect(sqlite_output_path)\n    cur= con.cursor()\n    for sql in sql_file.split(\";\"):\n        cur.execute(sql)\n    con.commit()\n    return con\n\nif input(\"Recreate database? \")==\"yes\":\n    print(\"recreating database\")\n    con=recreate_from_text(\"dbspecs.sql\",\":memory:\")\n    con_dest= sqlite3.connect(DATABASE_NAME)\n    con.backup(con_dest)\n    con.close()\n\ncon= sqlite3.connect(DATABASE_NAME)\ndf=get_metadata(con=con)\ncon.close()\nlist(df[\"table\"].unique())",
   "execution_count": 1,
   "outputs": [
    {
     "output_type": "stream",
     "name": "stdout",
     "text": "Recreate database? yes\nrecreating database\n"
    },
    {
     "output_type": "execute_result",
     "execution_count": 1,
     "data": {
      "text/plain": "['answer', 'question', 'test', 'test_category', 'test_question']"
     },
     "metadata": {}
    }
   ]
  },
  {
   "metadata": {
    "trusted": false
   },
   "cell_type": "code",
   "source": "df.head(30)",
   "execution_count": 2,
   "outputs": [
    {
     "output_type": "execute_result",
     "execution_count": 2,
     "data": {
      "text/plain": "            table  col_id                 col_name  col_type  col_pk col_def  \\\n0          answer       0                answer_id   INTEGER       1    None   \n1          answer       1         default_sequence  SMALLINT       0    None   \n2          answer       2              question_id   INTEGER       0    None   \n3          answer       3             correct_flag   BOOLEAN       0    None   \n4          answer       4         correct_sequence  SMALLINT       0    None   \n5          answer       5           answer_list_id      TEXT       0    None   \n6          answer       6              answer_text      TEXT       0    None   \n7          answer       7             answer_notes      TEXT       0    None   \n8        question       0              question_id   INTEGER       1    None   \n9        question       1            question_text      TEXT       0    None   \n10       question       2           question_notes      TEXT       0    None   \n11       question       3         require_sequence   BOOLEAN       0    None   \n12       question       4  require_random_sequence   BOOLEAN       0    None   \n13           test       0                  test_id   INTEGER       1    None   \n14           test       1                    title      TEXT       0    None   \n15           test       2              category_id      TEXT       0    None   \n16  test_category       0              category_id   INTEGER       1    None   \n17  test_category       1            category_name      TEXT       0    None   \n18  test_question       0              question_id   INTEGER       0    None   \n19  test_question       1                  test_id   INTEGER       0    None   \n\n    col_notnull  table_name_to  col_name_to  on_update on_delete  \n0             1            NaN          NaN        NaN       NaN  \n1             1            NaN          NaN        NaN       NaN  \n2             1       question  question_id  NO ACTION  SET NULL  \n3             0            NaN          NaN        NaN       NaN  \n4             1            NaN          NaN        NaN       NaN  \n5             0            NaN          NaN        NaN       NaN  \n6             1            NaN          NaN        NaN       NaN  \n7             0            NaN          NaN        NaN       NaN  \n8             1            NaN          NaN        NaN       NaN  \n9             0            NaN          NaN        NaN       NaN  \n10            0            NaN          NaN        NaN       NaN  \n11            0            NaN          NaN        NaN       NaN  \n12            0            NaN          NaN        NaN       NaN  \n13            1            NaN          NaN        NaN       NaN  \n14            1            NaN          NaN        NaN       NaN  \n15            0  test_category  category_id    CASCADE  SET NULL  \n16            1            NaN          NaN        NaN       NaN  \n17            1            NaN          NaN        NaN       NaN  \n18            1       question  question_id    CASCADE   CASCADE  \n19            0           test      test_id    CASCADE   CASCADE  ",
      "text/html": "<div>\n<style scoped>\n    .dataframe tbody tr th:only-of-type {\n        vertical-align: middle;\n    }\n\n    .dataframe tbody tr th {\n        vertical-align: top;\n    }\n\n    .dataframe thead th {\n        text-align: right;\n    }\n</style>\n<table border=\"1\" class=\"dataframe\">\n  <thead>\n    <tr style=\"text-align: right;\">\n      <th></th>\n      <th>table</th>\n      <th>col_id</th>\n      <th>col_name</th>\n      <th>col_type</th>\n      <th>col_pk</th>\n      <th>col_def</th>\n      <th>col_notnull</th>\n      <th>table_name_to</th>\n      <th>col_name_to</th>\n      <th>on_update</th>\n      <th>on_delete</th>\n    </tr>\n  </thead>\n  <tbody>\n    <tr>\n      <th>0</th>\n      <td>answer</td>\n      <td>0</td>\n      <td>answer_id</td>\n      <td>INTEGER</td>\n      <td>1</td>\n      <td>None</td>\n      <td>1</td>\n      <td>NaN</td>\n      <td>NaN</td>\n      <td>NaN</td>\n      <td>NaN</td>\n    </tr>\n    <tr>\n      <th>1</th>\n      <td>answer</td>\n      <td>1</td>\n      <td>default_sequence</td>\n      <td>SMALLINT</td>\n      <td>0</td>\n      <td>None</td>\n      <td>1</td>\n      <td>NaN</td>\n      <td>NaN</td>\n      <td>NaN</td>\n      <td>NaN</td>\n    </tr>\n    <tr>\n      <th>2</th>\n      <td>answer</td>\n      <td>2</td>\n      <td>question_id</td>\n      <td>INTEGER</td>\n      <td>0</td>\n      <td>None</td>\n      <td>1</td>\n      <td>question</td>\n      <td>question_id</td>\n      <td>NO ACTION</td>\n      <td>SET NULL</td>\n    </tr>\n    <tr>\n      <th>3</th>\n      <td>answer</td>\n      <td>3</td>\n      <td>correct_flag</td>\n      <td>BOOLEAN</td>\n      <td>0</td>\n      <td>None</td>\n      <td>0</td>\n      <td>NaN</td>\n      <td>NaN</td>\n      <td>NaN</td>\n      <td>NaN</td>\n    </tr>\n    <tr>\n      <th>4</th>\n      <td>answer</td>\n      <td>4</td>\n      <td>correct_sequence</td>\n      <td>SMALLINT</td>\n      <td>0</td>\n      <td>None</td>\n      <td>1</td>\n      <td>NaN</td>\n      <td>NaN</td>\n      <td>NaN</td>\n      <td>NaN</td>\n    </tr>\n    <tr>\n      <th>5</th>\n      <td>answer</td>\n      <td>5</td>\n      <td>answer_list_id</td>\n      <td>TEXT</td>\n      <td>0</td>\n      <td>None</td>\n      <td>0</td>\n      <td>NaN</td>\n      <td>NaN</td>\n      <td>NaN</td>\n      <td>NaN</td>\n    </tr>\n    <tr>\n      <th>6</th>\n      <td>answer</td>\n      <td>6</td>\n      <td>answer_text</td>\n      <td>TEXT</td>\n      <td>0</td>\n      <td>None</td>\n      <td>1</td>\n      <td>NaN</td>\n      <td>NaN</td>\n      <td>NaN</td>\n      <td>NaN</td>\n    </tr>\n    <tr>\n      <th>7</th>\n      <td>answer</td>\n      <td>7</td>\n      <td>answer_notes</td>\n      <td>TEXT</td>\n      <td>0</td>\n      <td>None</td>\n      <td>0</td>\n      <td>NaN</td>\n      <td>NaN</td>\n      <td>NaN</td>\n      <td>NaN</td>\n    </tr>\n    <tr>\n      <th>8</th>\n      <td>question</td>\n      <td>0</td>\n      <td>question_id</td>\n      <td>INTEGER</td>\n      <td>1</td>\n      <td>None</td>\n      <td>1</td>\n      <td>NaN</td>\n      <td>NaN</td>\n      <td>NaN</td>\n      <td>NaN</td>\n    </tr>\n    <tr>\n      <th>9</th>\n      <td>question</td>\n      <td>1</td>\n      <td>question_text</td>\n      <td>TEXT</td>\n      <td>0</td>\n      <td>None</td>\n      <td>0</td>\n      <td>NaN</td>\n      <td>NaN</td>\n      <td>NaN</td>\n      <td>NaN</td>\n    </tr>\n    <tr>\n      <th>10</th>\n      <td>question</td>\n      <td>2</td>\n      <td>question_notes</td>\n      <td>TEXT</td>\n      <td>0</td>\n      <td>None</td>\n      <td>0</td>\n      <td>NaN</td>\n      <td>NaN</td>\n      <td>NaN</td>\n      <td>NaN</td>\n    </tr>\n    <tr>\n      <th>11</th>\n      <td>question</td>\n      <td>3</td>\n      <td>require_sequence</td>\n      <td>BOOLEAN</td>\n      <td>0</td>\n      <td>None</td>\n      <td>0</td>\n      <td>NaN</td>\n      <td>NaN</td>\n      <td>NaN</td>\n      <td>NaN</td>\n    </tr>\n    <tr>\n      <th>12</th>\n      <td>question</td>\n      <td>4</td>\n      <td>require_random_sequence</td>\n      <td>BOOLEAN</td>\n      <td>0</td>\n      <td>None</td>\n      <td>0</td>\n      <td>NaN</td>\n      <td>NaN</td>\n      <td>NaN</td>\n      <td>NaN</td>\n    </tr>\n    <tr>\n      <th>13</th>\n      <td>test</td>\n      <td>0</td>\n      <td>test_id</td>\n      <td>INTEGER</td>\n      <td>1</td>\n      <td>None</td>\n      <td>1</td>\n      <td>NaN</td>\n      <td>NaN</td>\n      <td>NaN</td>\n      <td>NaN</td>\n    </tr>\n    <tr>\n      <th>14</th>\n      <td>test</td>\n      <td>1</td>\n      <td>title</td>\n      <td>TEXT</td>\n      <td>0</td>\n      <td>None</td>\n      <td>1</td>\n      <td>NaN</td>\n      <td>NaN</td>\n      <td>NaN</td>\n      <td>NaN</td>\n    </tr>\n    <tr>\n      <th>15</th>\n      <td>test</td>\n      <td>2</td>\n      <td>category_id</td>\n      <td>TEXT</td>\n      <td>0</td>\n      <td>None</td>\n      <td>0</td>\n      <td>test_category</td>\n      <td>category_id</td>\n      <td>CASCADE</td>\n      <td>SET NULL</td>\n    </tr>\n    <tr>\n      <th>16</th>\n      <td>test_category</td>\n      <td>0</td>\n      <td>category_id</td>\n      <td>INTEGER</td>\n      <td>1</td>\n      <td>None</td>\n      <td>1</td>\n      <td>NaN</td>\n      <td>NaN</td>\n      <td>NaN</td>\n      <td>NaN</td>\n    </tr>\n    <tr>\n      <th>17</th>\n      <td>test_category</td>\n      <td>1</td>\n      <td>category_name</td>\n      <td>TEXT</td>\n      <td>0</td>\n      <td>None</td>\n      <td>1</td>\n      <td>NaN</td>\n      <td>NaN</td>\n      <td>NaN</td>\n      <td>NaN</td>\n    </tr>\n    <tr>\n      <th>18</th>\n      <td>test_question</td>\n      <td>0</td>\n      <td>question_id</td>\n      <td>INTEGER</td>\n      <td>0</td>\n      <td>None</td>\n      <td>1</td>\n      <td>question</td>\n      <td>question_id</td>\n      <td>CASCADE</td>\n      <td>CASCADE</td>\n    </tr>\n    <tr>\n      <th>19</th>\n      <td>test_question</td>\n      <td>1</td>\n      <td>test_id</td>\n      <td>INTEGER</td>\n      <td>0</td>\n      <td>None</td>\n      <td>0</td>\n      <td>test</td>\n      <td>test_id</td>\n      <td>CASCADE</td>\n      <td>CASCADE</td>\n    </tr>\n  </tbody>\n</table>\n</div>"
     },
     "metadata": {}
    }
   ]
  },
  {
   "metadata": {
    "trusted": true
   },
   "cell_type": "code",
   "source": "import re\nfrom  pprint import pprint\nquestions=[]\nwhile True:\n    question={}\n    question_text=input(\"Question: \")\n    if not question_text:\n        break\n    question[\"question_text\"]=str.strip(str(question_text))\n    n=0\n    options=[]\n    print(\"Enter responses, start with ! for the correct ones\")\n    print(\"or enter the sequence at the end \")\n    while True:\n        n+=1\n        correct_flag_set=False\n        option_dict={}\n        option_text=input(\"Option \"+str(n)+\":\")\n        if not option_text:\n            break\n        print(option_text)\n        if option_text[0]==\"!\":\n            option_dict[\"correct_flag\"]=True\n            correct_flag_set=True\n            option_text=option_text[1:]\n        else:\n            option_dict[\"correct_flag\"]=False\n        m= re.findall(r\"(^\\w?)(?:\\) |\\. ]) ?(.+)$\",option_text)\n        \n        if m:\n            submatches=m[0]\n            option_dict[\"answer_list_id\"]=submatches[0].strip()\n            option_dict[\"answer_text\"]=submatches[1].strip()\n        else:\n            option_dict[\"answer_list_id\"]=str(n)\n            option_dict[\"answer_text\"]=option_text.strip()\n        options.append(option_dict)\n    correct_sequence=[]\n    if not correct_flag_set:\n        correct_sequence_text=input(\"Enter the correct response or sequence using the number and separated by spaces: \")\n        if correct_sequence_text:\n            correct_sequence_list=split(correct_sequence_text,\" \")\n            correct_sequence_list=[int(n) for n in correct_sequence_list]\n            pprint(correct_sequence_list)\n            if len(correct_sequence_list)==0:\n                options[0][\"correct_flag\"]=True\n                \n    question[\"answer\"]=options.copy()\n    questions.append(question)\npprint(questions)",
   "execution_count": null,
   "outputs": []
  },
  {
   "metadata": {
    "trusted": false
   },
   "cell_type": "code",
   "source": "import sqlite3\nDATABASE_NAME=\"test_template.db\"\ncon= sqlite3.connect(DATABASE_NAME)\ncur=con.cursor()\ndef get_next_id(con,col_name,table_name):\n    cur=con.cursor()\n    cur.execute(f\"SELECT MAX({col_name}) AS max_value FROM {table_name}\",)\n    res=cur.fetchone()[0]\n    if res:\n        next_id=int(res)+1\n    else:\n        next_id=1\n    cur.close()\n    return next_id\n\nget_next_id(con,\"question_id\",\"question\")",
   "execution_count": 6,
   "outputs": [
    {
     "output_type": "execute_result",
     "execution_count": 6,
     "data": {
      "text/plain": "1"
     },
     "metadata": {}
    }
   ]
  },
  {
   "metadata": {
    "trusted": false
   },
   "cell_type": "code",
   "source": "\nfor question in questions:\n    print(question)\n    question_id=get_next_id(con,\"question_id\",\"question\")\n    sql = ''' INSERT INTO question (\"question_id\", \"question_text\", \"question_notes\") VALUES(?,?,?) '''\n    values=(question_id,question[\"question_text\"],\"\")\n    cur.execute(sql,values)\n    con.commit()",
   "execution_count": 7,
   "outputs": [
    {
     "output_type": "stream",
     "text": "{'question_text': 'how are you today?', 'answer': [{'correct_flag': False, 'answer_list_id': '1', 'answer_text': 'Ok'}, {'correct_flag': False, 'answer_list_id': '2', 'answer_text': 'spectacular'}, {'correct_flag': False, 'answer_list_id': '3', 'answer_text': 'so so'}]}\n{'question_text': 'What day is today?', 'answer': [{'correct_flag': False, 'answer_list_id': '1', 'answer_text': 'weekend!'}, {'correct_flag': False, 'answer_list_id': '2', 'answer_text': 'tgif'}, {'correct_flag': False, 'answer_list_id': '3', 'answer_text': 'meh'}]}\n",
     "name": "stdout"
    }
   ]
  },
  {
   "metadata": {
    "trusted": false
   },
   "cell_type": "code",
   "source": "df.head()",
   "execution_count": 8,
   "outputs": [
    {
     "output_type": "execute_result",
     "execution_count": 8,
     "data": {
      "text/plain": "    table  col_id          col_name  col_type  col_pk col_def  col_notnull  \\\n0  answer       0         answer_id   INTEGER       1    None            1   \n1  answer       1  default_sequence  SMALLINT       0    None            1   \n2  answer       2       question_id   INTEGER       0    None            1   \n3  answer       3      correct_flag   BOOLEAN       0    None            0   \n4  answer       4  correct_sequence  SMALLINT       0    None            1   \n\n  table_name_to  col_name_to  on_update on_delete  \n0           NaN          NaN        NaN       NaN  \n1           NaN          NaN        NaN       NaN  \n2      question  question_id  NO ACTION  SET NULL  \n3           NaN          NaN        NaN       NaN  \n4           NaN          NaN        NaN       NaN  ",
      "text/html": "<div>\n<style scoped>\n    .dataframe tbody tr th:only-of-type {\n        vertical-align: middle;\n    }\n\n    .dataframe tbody tr th {\n        vertical-align: top;\n    }\n\n    .dataframe thead th {\n        text-align: right;\n    }\n</style>\n<table border=\"1\" class=\"dataframe\">\n  <thead>\n    <tr style=\"text-align: right;\">\n      <th></th>\n      <th>table</th>\n      <th>col_id</th>\n      <th>col_name</th>\n      <th>col_type</th>\n      <th>col_pk</th>\n      <th>col_def</th>\n      <th>col_notnull</th>\n      <th>table_name_to</th>\n      <th>col_name_to</th>\n      <th>on_update</th>\n      <th>on_delete</th>\n    </tr>\n  </thead>\n  <tbody>\n    <tr>\n      <th>0</th>\n      <td>answer</td>\n      <td>0</td>\n      <td>answer_id</td>\n      <td>INTEGER</td>\n      <td>1</td>\n      <td>None</td>\n      <td>1</td>\n      <td>NaN</td>\n      <td>NaN</td>\n      <td>NaN</td>\n      <td>NaN</td>\n    </tr>\n    <tr>\n      <th>1</th>\n      <td>answer</td>\n      <td>1</td>\n      <td>default_sequence</td>\n      <td>SMALLINT</td>\n      <td>0</td>\n      <td>None</td>\n      <td>1</td>\n      <td>NaN</td>\n      <td>NaN</td>\n      <td>NaN</td>\n      <td>NaN</td>\n    </tr>\n    <tr>\n      <th>2</th>\n      <td>answer</td>\n      <td>2</td>\n      <td>question_id</td>\n      <td>INTEGER</td>\n      <td>0</td>\n      <td>None</td>\n      <td>1</td>\n      <td>question</td>\n      <td>question_id</td>\n      <td>NO ACTION</td>\n      <td>SET NULL</td>\n    </tr>\n    <tr>\n      <th>3</th>\n      <td>answer</td>\n      <td>3</td>\n      <td>correct_flag</td>\n      <td>BOOLEAN</td>\n      <td>0</td>\n      <td>None</td>\n      <td>0</td>\n      <td>NaN</td>\n      <td>NaN</td>\n      <td>NaN</td>\n      <td>NaN</td>\n    </tr>\n    <tr>\n      <th>4</th>\n      <td>answer</td>\n      <td>4</td>\n      <td>correct_sequence</td>\n      <td>SMALLINT</td>\n      <td>0</td>\n      <td>None</td>\n      <td>1</td>\n      <td>NaN</td>\n      <td>NaN</td>\n      <td>NaN</td>\n      <td>NaN</td>\n    </tr>\n  </tbody>\n</table>\n</div>"
     },
     "metadata": {}
    }
   ]
  },
  {
   "metadata": {
    "trusted": false
   },
   "cell_type": "code",
   "source": "sql=f\"\"\"select * from question\"\"\"\ncur.execute(sql)\nres=cur.fetchall()\ncol_list= df[df[\"table\"]==\"question\"][\"col_name\"].to_list()\ndftemp=pd.DataFrame(res,columns=col_list)\ndftemp",
   "execution_count": 9,
   "outputs": [
    {
     "output_type": "execute_result",
     "execution_count": 9,
     "data": {
      "text/plain": "   question_id       question_text question_notes\n0            1  how are you today?               \n1            2  What day is today?               ",
      "text/html": "<div>\n<style scoped>\n    .dataframe tbody tr th:only-of-type {\n        vertical-align: middle;\n    }\n\n    .dataframe tbody tr th {\n        vertical-align: top;\n    }\n\n    .dataframe thead th {\n        text-align: right;\n    }\n</style>\n<table border=\"1\" class=\"dataframe\">\n  <thead>\n    <tr style=\"text-align: right;\">\n      <th></th>\n      <th>question_id</th>\n      <th>question_text</th>\n      <th>question_notes</th>\n    </tr>\n  </thead>\n  <tbody>\n    <tr>\n      <th>0</th>\n      <td>1</td>\n      <td>how are you today?</td>\n      <td></td>\n    </tr>\n    <tr>\n      <th>1</th>\n      <td>2</td>\n      <td>What day is today?</td>\n      <td></td>\n    </tr>\n  </tbody>\n</table>\n</div>"
     },
     "metadata": {}
    }
   ]
  },
  {
   "metadata": {
    "trusted": false
   },
   "cell_type": "code",
   "source": "",
   "execution_count": null,
   "outputs": []
  }
 ],
 "metadata": {
  "kernelspec": {
   "name": "python3",
   "display_name": "Python 3",
   "language": "python"
  },
  "language_info": {
   "name": "python",
   "version": "3.10.4",
   "mimetype": "text/x-python",
   "codemirror_mode": {
    "name": "ipython",
    "version": 3
   },
   "pygments_lexer": "ipython3",
   "nbconvert_exporter": "python",
   "file_extension": ".py"
  }
 },
 "nbformat": 4,
 "nbformat_minor": 2
}