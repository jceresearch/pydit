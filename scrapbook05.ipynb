{
 "cells": [
  {
   "cell_type": "code",
   "execution_count": 4,
   "metadata": {},
   "outputs": [],
   "source": [
    "import pandas as pd\n",
    "import numpy as np\n",
    "import random\n",
    "import pydit\n",
    "d1 = {\n",
    "        \"mkey\": [\"a\", \"b\", \"c\",\"d\",np.nan],\n",
    "        \"mvalue\": [\"aa\",\"bb\",\"cc\",\"dd\",\"\"]\n",
    "    }\n",
    "d2 = {\n",
    "        \"tkey\": [100, 101, 102,103,104,105,106,107],\n",
    "        \"mkey\": [\"a\",\"a\",\"a\",\"b\",\"c\",\"c\",\"e\",np.nan],\n",
    "        \"tvalue\": [10.12,20.4,33.3,45,59.99,60,-1,-1]\n",
    "    }\n",
    "d3= {\n",
    "        \"tkey\": [108, 109, 110,111,112,113,114,115],\n",
    "        \"mkey\": [\"b\",\"a\",\"b\",\"b\",\"b\",\"e\",\"e\",\"f\"],\n",
    "        \"tvalue\": [13,19.04,10.3,50,51.99,60,10,4.20]\n",
    "    }\n",
    "\n",
    "\n",
    "df1 = pd.DataFrame(data=d1)\n",
    "df2= pd.DataFrame(data=d2)\n",
    "df3=pd.DataFrame(data=d3)\n"
   ]
  },
  {
   "cell_type": "code",
   "execution_count": 5,
   "metadata": {},
   "outputs": [
    {
     "data": {
      "text/plain": [
       "'partial overlap and both have duplicates'"
      ]
     },
     "execution_count": 5,
     "metadata": {},
     "output_type": "execute_result"
    }
   ],
   "source": [
    "pydit.validate.check_referential_integrity(df1,df2)"
   ]
  },
  {
   "cell_type": "code",
   "execution_count": null,
   "metadata": {},
   "outputs": [],
   "source": []
  }
 ],
 "metadata": {
  "kernelspec": {
   "display_name": "Python 3",
   "language": "python",
   "name": "python3"
  },
  "language_info": {
   "codemirror_mode": {
    "name": "ipython",
    "version": 3
   },
   "file_extension": ".py",
   "mimetype": "text/x-python",
   "name": "python",
   "nbconvert_exporter": "python",
   "pygments_lexer": "ipython3",
   "version": "3.6.6+"
  }
 },
 "nbformat": 4,
 "nbformat_minor": 2
}
