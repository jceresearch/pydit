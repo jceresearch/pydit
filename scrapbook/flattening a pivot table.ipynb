{
 "cells": [
  {
   "cell_type": "code",
   "execution_count": 1,
   "metadata": {
    "trusted": true
   },
   "outputs": [],
   "source": [
    "import seaborn as sns\n",
    "import pandas as pd\n",
    "import numpy as np\n",
    "from sklearn import datasets\n",
    "\n",
    "iris = sns.load_dataset(\"iris\")\n",
    "# iris= datasets.load_iris()"
   ]
  },
  {
   "cell_type": "code",
   "execution_count": 2,
   "metadata": {
    "trusted": true
   },
   "outputs": [],
   "source": [
    "import random"
   ]
  },
  {
   "cell_type": "code",
   "execution_count": 11,
   "metadata": {
    "trusted": true
   },
   "outputs": [
    {
     "ename": "TypeError",
     "evalue": "map() must have at least two arguments.",
     "output_type": "error",
     "traceback": [
      "\u001b[0;31m---------------------------------------------------------------------------\u001b[0m",
      "\u001b[0;31mTypeError\u001b[0m                                 Traceback (most recent call last)",
      "Cell \u001b[0;32mIn[11], line 4\u001b[0m\n\u001b[1;32m      2\u001b[0m df\u001b[39m=\u001b[39miris\u001b[39m.\u001b[39mcopy()\n\u001b[1;32m      3\u001b[0m df[\u001b[39m\"\u001b[39m\u001b[39mlocation\u001b[39m\u001b[39m\"\u001b[39m]\u001b[39m=\u001b[39mdf\u001b[39m.\u001b[39mapply(\u001b[39mlambda\u001b[39;00m r : random\u001b[39m.\u001b[39mchoice([\u001b[39m\"\u001b[39m\u001b[39mGrass\u001b[39m\u001b[39m\"\u001b[39m,\u001b[39m\"\u001b[39m\u001b[39mForest\u001b[39m\u001b[39m\"\u001b[39m,\u001b[39m\"\u001b[39m\u001b[39mRiver\u001b[39m\u001b[39m\"\u001b[39m,\u001b[39m\"\u001b[39m\u001b[39mDry\u001b[39m\u001b[39m\"\u001b[39m]),axis\u001b[39m=\u001b[39m\u001b[39m1\u001b[39m)\n\u001b[0;32m----> 4\u001b[0m df[\u001b[39m\"\u001b[39m\u001b[39msubespecies\u001b[39m\u001b[39m\"\u001b[39m]\u001b[39m=\u001b[39mdf[\u001b[39m\"\u001b[39m\u001b[39mspecies\u001b[39m\u001b[39m\"\u001b[39m]\u001b[39m.\u001b[39mapply(\u001b[39mmap\u001b[39;49m({\u001b[39m\"\u001b[39;49m\u001b[39msetosa\u001b[39;49m\u001b[39m\"\u001b[39;49m:random\u001b[39m.\u001b[39;49mchoice([\u001b[39m\"\u001b[39;49m\u001b[39mTall\u001b[39;49m\u001b[39m\"\u001b[39;49m,\u001b[39m\"\u001b[39;49m\u001b[39mShort\u001b[39;49m\u001b[39m\"\u001b[39;49m]),\u001b[39m\"\u001b[39;49m\u001b[39mversicolor\u001b[39;49m\u001b[39m\"\u001b[39;49m:random\u001b[39m.\u001b[39;49mchoice([\u001b[39m\"\u001b[39;49m\u001b[39mRed\u001b[39;49m\u001b[39m\"\u001b[39;49m,\u001b[39m\"\u001b[39;49m\u001b[39mYellow\u001b[39;49m\u001b[39m\"\u001b[39;49m]),\u001b[39m\"\u001b[39;49m\u001b[39mvirginica\u001b[39;49m\u001b[39m\"\u001b[39;49m:\u001b[39m\"\u001b[39;49m\u001b[39mvirginica\u001b[39;49m\u001b[39m\"\u001b[39;49m}))\n\u001b[1;32m      5\u001b[0m df\u001b[39m=\u001b[39mdf\u001b[39m.\u001b[39mreset_index()\n\u001b[1;32m      6\u001b[0m df[df\u001b[39m.\u001b[39mspecies\u001b[39m==\u001b[39m\u001b[39m\"\u001b[39m\u001b[39msetosa\u001b[39m\u001b[39m\"\u001b[39m]\u001b[39m.\u001b[39mhead(\u001b[39m10\u001b[39m)\n",
      "\u001b[0;31mTypeError\u001b[0m: map() must have at least two arguments."
     ]
    }
   ],
   "source": [
    "# setosa dataset\n",
    "df = iris.copy()\n",
    "df[\"location\"] = df.apply(\n",
    "    lambda r: random.choice([\"Grass\", \"Forest\", \"River\", \"Dry\"]), axis=1\n",
    ")\n",
    "df[\"su bespecies\"] = df[\"species\"].apply(\n",
    "    map(\n",
    "        {\n",
    "            \"setosa\": random.choice([\"Tall\", \"Short\"]),\n",
    "            \"versicolor\": random.choice([\"Red\", \"Yellow\"]),\n",
    "            \"virginica\": \"virginica\",\n",
    "        }\n",
    "    )\n",
    ")\n",
    "df = df.reset_index()\n",
    "df[df.species == \"setosa\"].head(10)"
   ]
  },
  {
   "cell_type": "code",
   "execution_count": 5,
   "metadata": {
    "trusted": true
   },
   "outputs": [
    {
     "ename": "SyntaxError",
     "evalue": "invalid syntax. Perhaps you forgot a comma? (3820246720.py, line 1)",
     "output_type": "error",
     "traceback": [
      "\u001b[0;36m  Cell \u001b[0;32mIn[5], line 1\u001b[0;36m\u001b[0m\n\u001b[0;31m    dfp=pd.pivot_table(df, index='species',columns=[]\"type\",values=\"index\",aggfunc=len).reset_index()\u001b[0m\n\u001b[0m                                                   ^\u001b[0m\n\u001b[0;31mSyntaxError\u001b[0m\u001b[0;31m:\u001b[0m invalid syntax. Perhaps you forgot a comma?\n"
     ]
    }
   ],
   "source": [
    "dfp = pd.pivot_table(\n",
    "    df, index=\"species\", columns=[\"type\"], values=\"index\", aggfunc=len\n",
    ").reset_index()\n",
    "dfp"
   ]
  },
  {
   "cell_type": "code",
   "execution_count": 16,
   "metadata": {
    "trusted": true
   },
   "outputs": [
    {
     "ename": "TypeError",
     "evalue": "'Index' object is not callable",
     "output_type": "error",
     "traceback": [
      "\u001b[0;31m---------------------------------------------------------------------------\u001b[0m",
      "\u001b[0;31mTypeError\u001b[0m                                 Traceback (most recent call last)",
      "\u001b[0;32m<ipython-input-16-966ee6c0da16>\u001b[0m in \u001b[0;36m<module>\u001b[0;34m\u001b[0m\n\u001b[0;32m----> 1\u001b[0;31m \u001b[0mdfp\u001b[0m\u001b[0;34m.\u001b[0m\u001b[0mcolumns\u001b[0m\u001b[0;34m=\u001b[0m\u001b[0;34m[\u001b[0m\u001b[0mx\u001b[0m\u001b[0;34m[\u001b[0m\u001b[0;36m1\u001b[0m\u001b[0;34m]\u001b[0m \u001b[0;32mfor\u001b[0m \u001b[0mx\u001b[0m \u001b[0;32min\u001b[0m \u001b[0mdfp\u001b[0m\u001b[0;34m.\u001b[0m\u001b[0mcolumns\u001b[0m\u001b[0;34m(\u001b[0m\u001b[0;34m)\u001b[0m \u001b[0;34m]\u001b[0m\u001b[0;34m\u001b[0m\u001b[0;34m\u001b[0m\u001b[0m\n\u001b[0m\u001b[1;32m      2\u001b[0m \u001b[0mdfp\u001b[0m\u001b[0;34m\u001b[0m\u001b[0;34m\u001b[0m\u001b[0m\n",
      "\u001b[0;31mTypeError\u001b[0m: 'Index' object is not callable"
     ]
    }
   ],
   "source": [
    "dfp.columns = [x[1] for x in dfp.columns]\n",
    "dfp"
   ]
  },
  {
   "cell_type": "code",
   "execution_count": null,
   "metadata": {
    "trusted": true
   },
   "outputs": [],
   "source": []
  }
 ],
 "metadata": {
  "kernelspec": {
   "display_name": "Python 3",
   "language": "python",
   "name": "python3"
  },
  "language_info": {
   "codemirror_mode": {
    "name": "ipython",
    "version": 3
   },
   "file_extension": ".py",
   "mimetype": "text/x-python",
   "name": "python",
   "nbconvert_exporter": "python",
   "pygments_lexer": "ipython3",
   "version": "3.10.4"
  }
 },
 "nbformat": 4,
 "nbformat_minor": 2
}
