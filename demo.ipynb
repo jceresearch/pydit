{
 "cells": [
  {
   "cell_type": "code",
   "execution_count": 1,
   "metadata": {},
   "outputs": [
    {
     "name": "stderr",
     "output_type": "stream",
     "text": [
      "2022-01-31 20:13:50 INFO root Started\n",
      "2022-01-31 20:13:50 INFO pydit.pydit_core \n",
      "temp_path\t./demo_data/\n",
      "output_path\t./demo_data/\n",
      "input_path\t./demo_data/\n",
      "max_rows_to_excel\t200000\n"
     ]
    }
   ],
   "source": [
    "from pydit import pydit_core\n",
    "import pandas as pd\n",
    "from pandas import Timestamp\n",
    "import logging\n",
    "logging.basicConfig(datefmt='%Y-%m-%d %H:%M:%S', format='%(asctime)s %(levelname)s %(name)s %(message)s',level=logging.DEBUG)\n",
    "logging.info('Started')\n",
    "tools= pydit_core.Tools()\n",
    "tools.input_path=\"./demo_data/\"\n",
    "tools.output_path=\"./demo_data/\"\n",
    "tools.temp_path=\"./demo_data/\"\n",
    "conf=tools.config()\n"
   ]
  },
  {
   "cell_type": "code",
   "execution_count": null,
   "metadata": {},
   "outputs": [],
   "source": [
    "df = pd.DataFrame([\n",
    "    [1, 'INV-220001', Timestamp('2022-01-01 00:00:00'), 'OPEN', 35.94,''],\n",
    "    [2, 'INV-220002', Timestamp('2022-01-02 00:00:00'), 'OPEN', 99.99,'-5'],\n",
    "    [3, 'INV-220003', Timestamp('2022-01-03 00:00:00'), 'CANCELLED', 13.0,'reinbursed 10.5'],\n",
    "    [4, 'INV-220003', Timestamp('2022-01-04 00:00:00'), 'OPEN', float('nan'),''],\n",
    "    [5, 'INV-220005', Timestamp('2022-01-04 00:00:00'), 'OPEN', 204.2,''],\n",
    "    [6, 'INV-220006', Timestamp('2022-01-15 00:00:00'), 'OPEN', -4.2,'discount'],\n",
    "    [7, float('nan'), Timestamp('2022-01-06 00:00:00'), float('nan'), 0.0,''],\n",
    "    [8, 'INV-220007', Timestamp('2022-01-15 00:00:00'), 'PENDING', 50.4,''],\n",
    "    [9, '', pd.NaT, 'ERROR', 0.0,''],\n",
    "    [10, 'INV-220007', Timestamp('2022-01-15 00:00:00'), 'PENDING', 50.4,'']], \n",
    "    columns=['id', 'ref', 'date_trans', 'status', 'amount','notes'])\n",
    "df"
   ]
  },
  {
   "cell_type": "code",
   "execution_count": null,
   "metadata": {},
   "outputs": [],
   "source": [
    "tools.check_dataframe(df)"
   ]
  },
  {
   "cell_type": "code",
   "execution_count": null,
   "metadata": {},
   "outputs": [],
   "source": [
    "tools.save(df,\"output.xlsx\")"
   ]
  },
  {
   "cell_type": "code",
   "execution_count": null,
   "metadata": {},
   "outputs": [],
   "source": []
  }
 ],
 "metadata": {
  "interpreter": {
   "hash": "9d3bae0a0f66551680ef8a166f6b92cc2774d5d7901f027deb7bb883ed06d5ae"
  },
  "kernelspec": {
   "display_name": "Python 3",
   "language": "python",
   "name": "python3"
  },
  "language_info": {
   "codemirror_mode": {
    "name": "ipython",
    "version": 3
   },
   "file_extension": ".py",
   "mimetype": "text/x-python",
   "name": "python",
   "nbconvert_exporter": "python",
   "pygments_lexer": "ipython3",
   "version": "3.8.5"
  }
 },
 "nbformat": 4,
 "nbformat_minor": 2
}
